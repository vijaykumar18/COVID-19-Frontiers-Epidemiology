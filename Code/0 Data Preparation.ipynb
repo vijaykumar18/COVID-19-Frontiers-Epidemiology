{
  "cells": [
    {
      "cell_type": "markdown",
      "metadata": {
        "id": "cM5jZaa6X6G_"
      },
      "source": [
        "### Import Packages"
      ]
    },
    {
      "cell_type": "code",
      "execution_count": 7,
      "metadata": {
        "id": "Z0E1KMlnXtZJ"
      },
      "outputs": [],
      "source": [
        "import pandas as pd"
      ]
    },
    {
      "cell_type": "markdown",
      "metadata": {
        "id": "FPtz06giYCv3"
      },
      "source": [
        "### Demographic and Pollutant"
      ]
    },
    {
      "cell_type": "code",
      "execution_count": 9,
      "metadata": {
        "colab": {
          "base_uri": "https://localhost:8080/"
        },
        "id": "SN2fPkH-X5YX",
        "outputId": "906bc771-91ed-400e-98d8-a0c181f1b00d"
      },
      "outputs": [
        {
          "name": "stderr",
          "output_type": "stream",
          "text": [
            "/usr/local/lib/python3.7/dist-packages/ipykernel_launcher.py:10: SettingWithCopyWarning: \n",
            "A value is trying to be set on a copy of a slice from a DataFrame.\n",
            "Try using .loc[row_indexer,col_indexer] = value instead\n",
            "\n",
            "See the caveats in the documentation: https://pandas.pydata.org/pandas-docs/stable/user_guide/indexing.html#returning-a-view-versus-a-copy\n",
            "  # Remove the CWD from sys.path while we load stuff.\n",
            "/usr/local/lib/python3.7/dist-packages/ipykernel_launcher.py:11: SettingWithCopyWarning: \n",
            "A value is trying to be set on a copy of a slice from a DataFrame.\n",
            "Try using .loc[row_indexer,col_indexer] = value instead\n",
            "\n",
            "See the caveats in the documentation: https://pandas.pydata.org/pandas-docs/stable/user_guide/indexing.html#returning-a-view-versus-a-copy\n",
            "  # This is added back by InteractiveShellApp.init_path()\n",
            "/usr/local/lib/python3.7/dist-packages/ipykernel_launcher.py:12: SettingWithCopyWarning: \n",
            "A value is trying to be set on a copy of a slice from a DataFrame.\n",
            "Try using .loc[row_indexer,col_indexer] = value instead\n",
            "\n",
            "See the caveats in the documentation: https://pandas.pydata.org/pandas-docs/stable/user_guide/indexing.html#returning-a-view-versus-a-copy\n",
            "  if sys.path[0] == '':\n",
            "/usr/local/lib/python3.7/dist-packages/pandas/core/frame.py:5047: SettingWithCopyWarning: \n",
            "A value is trying to be set on a copy of a slice from a DataFrame\n",
            "\n",
            "See the caveats in the documentation: https://pandas.pydata.org/pandas-docs/stable/user_guide/indexing.html#returning-a-view-versus-a-copy\n",
            "  errors=errors,\n",
            "/usr/local/lib/python3.7/dist-packages/ipykernel_launcher.py:22: SettingWithCopyWarning: \n",
            "A value is trying to be set on a copy of a slice from a DataFrame.\n",
            "Try using .loc[row_indexer,col_indexer] = value instead\n",
            "\n",
            "See the caveats in the documentation: https://pandas.pydata.org/pandas-docs/stable/user_guide/indexing.html#returning-a-view-versus-a-copy\n"
          ]
        }
      ],
      "source": [
        "# EPA Pollutant data\n",
        "pol_data = pd.read_csv(\"/Data/pollutant_data.csv\")\n",
        "pol_data['fips'] = pol_data['FIPS']\n",
        "pol_data = pol_data[['fips', 'ozone', 'pm25', 'no2', 'so2']]\n",
        "pol_data['fips'] = pol_data['fips'].astype(int).astype(str).apply(lambda x: x.zfill(5)[0:5])\n",
        "\n",
        "# Hopkins Population Center (HPC) 2018 https://github.com/QFL2020/COVID_DataHub\n",
        "eth = pd.read_csv(\"/Data/Prepandemic_v2.csv\", encoding = \"ISO-8859-1\")\n",
        "ethj = eth[['fips', 'popdensity_2018', 'tot_2018', 'male_2018', 'hispanic_2018', 'nhwhite_2018', 'nhblack_2018', 'nhindian_2018', 'nhasian_2018', 'povprop']]\n",
        "ethj['ageab55'] = eth['ageg12_2018'] + eth['ageg13_2018'] + eth['ageg14_2018'] + eth['ageg15_2018'] + eth['ageg16_2018'] + eth['ageg17_2018'] + eth['ageg18_2018']\n",
        "ethj['ageab65'] = eth['ageg14_2018'] + eth['ageg15_2018'] + eth['ageg16_2018'] + eth['ageg17_2018'] + eth['ageg18_2018']\n",
        "ethj['fips'] = ethj['fips'].astype(int).astype(str).apply(lambda x: x.zfill(5)[0:5])\n",
        "ethj = ethj.rename(columns = {'popdensity_2018' : 'popdense', 'tot_2018' : 'population'})\n",
        "\n",
        "edu = pd.read_excel('/Raw_Data/Education.xlsx')\n",
        "edu['fips'] = edu['fips'].astype(int).astype(str).apply(lambda x: x.zfill(5)[0:5])\n",
        "edu = edu[['fips', 'Percent of adults with less than a high school diploma, 2015-19', 'Percent of adults with a high school diploma only, 2015-19', \"Percent of adults completing some college or associate's degree, 2015-19\", \"Percent of adults with a bachelor's degree or higher, 2015-19\"]]\n",
        "edu.rename(columns={\"Percent of adults with less than a high school diploma, 2015-19\" : 'AR',\n",
        "                    \"Percent of adults with a high school diploma only, 2015-19\" : 'AS',\n",
        "                    \"Percent of adults completing some college or associate's degree, 2015-19\" : 'AT',\n",
        "                    \"Percent of adults with a bachelor's degree or higher, 2015-19\" : 'AU'}, inplace = True)\n",
        "edu['pct_highschool_or_less'] = edu['AR'] + edu['AS']"
      ]
    },
    {
      "cell_type": "markdown",
      "metadata": {
        "id": "tfyYKII5aIUx"
      },
      "source": [
        "### Wave 1 Data"
      ]
    },
    {
      "cell_type": "code",
      "execution_count": 10,
      "metadata": {
        "colab": {
          "base_uri": "https://localhost:8080/"
        },
        "id": "DKyOTLEsY3o4",
        "outputId": "eb536cff-54eb-4472-eb02-8d4056b976fe"
      },
      "outputs": [
        {
          "name": "stderr",
          "output_type": "stream",
          "text": [
            "/usr/local/lib/python3.7/dist-packages/ipykernel_launcher.py:24: UserWarning: Boolean Series key will be reindexed to match DataFrame index.\n"
          ]
        }
      ],
      "source": [
        "# New york Times covid data\n",
        "covid = pd.read_csv('/Data/us-counties.csv')\n",
        "covid = covid[covid['date'] == '2020-06-30']\n",
        "covid = covid.drop(['date', 'county', 'state'], axis = 1)\n",
        "covid = covid.dropna()\n",
        "covid['fips'] = covid['fips'].astype(int).astype(str).apply(lambda x: x.zfill(5)[0:5])\n",
        "covid['fips'].nunique()\n",
        "\n",
        "# Merge all data\n",
        "data = covid.merge(ethj, on='fips')\n",
        "data = data.merge(edu, on='fips').drop_duplicates().reset_index(drop=True)\n",
        "data['cases rate 10k'] = data['cases'] / data['population'] * 10000\n",
        "data['deaths rate 10k'] = data['deaths'] / data['population'] * 10000\n",
        "data['deaths cases 10k'] = data['deaths'] / data['cases'] * 10000\n",
        "data['ageab55'] = data['ageab55'] * 100\n",
        "data['pctpov'] = data['povprop'] * 100\n",
        "data['pctmale'] = data['male_2018'] * 100\n",
        "data['pctwhite'] = data['nhwhite_2018'] * 100\n",
        "data['pctblack'] = data['nhblack_2018'] * 100\n",
        "data['pctindian'] = data['nhindian_2018'] * 100\n",
        "data['pctasian'] = data['nhasian_2018'] * 100\n",
        "data['pcthispanic'] = data['hispanic_2018'] * 100\n",
        "data = data.drop(['povprop','male_2018','nhwhite_2018','nhblack_2018','nhindian_2018','nhasian_2018','hispanic_2018'], axis=1)\n",
        "data = data.sort_values('cases rate 10k', ascending=False)[data['population'] > 100000]\n",
        "epifips = data.iloc[0:200]['fips'].tolist()\n",
        "data['type'] = data['fips'].apply(lambda x: 0 if x in epifips else 1)\n",
        "cdata = data\n",
        "\n",
        "cdata = cdata.merge(pol_data, on='fips').drop_duplicates().reset_index(drop=True)\n",
        "\n",
        "wave1_data = cdata\n",
        "wave1_data.to_csv('wave1_data.csv')"
      ]
    },
    {
      "cell_type": "markdown",
      "metadata": {
        "id": "G4LVEK-AaK8l"
      },
      "source": [
        "### Wave 2 Data"
      ]
    },
    {
      "cell_type": "code",
      "execution_count": 11,
      "metadata": {
        "colab": {
          "base_uri": "https://localhost:8080/"
        },
        "id": "Q_hcIP1baK8m",
        "outputId": "a11537f2-7ca6-46e8-d281-f450830f732d"
      },
      "outputs": [
        {
          "name": "stderr",
          "output_type": "stream",
          "text": [
            "/usr/local/lib/python3.7/dist-packages/ipykernel_launcher.py:34: UserWarning: Boolean Series key will be reindexed to match DataFrame index.\n"
          ]
        }
      ],
      "source": [
        "covid1 = pd.read_csv('/Data/us-counties.csv')\n",
        "covid1 = covid1[covid1['date'] == '2020-12-31']\n",
        "covid1 = covid1.drop(['date', 'county', 'state'], axis = 1)\n",
        "covid1 = covid1.dropna()\n",
        "covid1['fips'] = covid1['fips'].astype(int).astype(str).apply(lambda x: x.zfill(5)[0:5])\n",
        "\n",
        "covid2 = pd.read_csv('/Data/us-counties.csv')\n",
        "covid2 = covid2[covid2['date'] == '2020-06-30']\n",
        "covid2 = covid2.drop(['date', 'county', 'state'], axis = 1)\n",
        "covid2 = covid2.dropna()\n",
        "covid2['fips'] = covid2['fips'].astype(int).astype(str).apply(lambda x: x.zfill(5)[0:5])\n",
        "\n",
        "covid = covid1.merge(covid2, on=\"fips\")\n",
        "covid['cases'] = covid['cases_x'] - covid['cases_y']\n",
        "covid['deaths'] = covid['deaths_x'] - covid['deaths_y']\n",
        "covid = covid.drop(['cases_x', 'cases_y', 'deaths_x', 'deaths_y'], axis = 1)\n",
        "covid = covid.dropna()\n",
        "covid['fips'].nunique()\n",
        "\n",
        "data = covid.merge(ethj, on='fips')\n",
        "data = data.merge(edu, on='fips').drop_duplicates().reset_index(drop=True)\n",
        "data['cases rate 10k'] = data['cases'] / data['population'] * 10000\n",
        "data['deaths rate 10k'] = data['deaths'] / data['population'] * 10000\n",
        "data['deaths cases 10k'] = data['deaths'] / data['cases'] * 10000\n",
        "data['ageab55'] = data['ageab55'] * 100\n",
        "data['pctpov'] = data['povprop'] * 100\n",
        "data['pctmale'] = data['male_2018'] * 100\n",
        "data['pctwhite'] = data['nhwhite_2018'] * 100\n",
        "data['pctblack'] = data['nhblack_2018'] * 100\n",
        "data['pctindian'] = data['nhindian_2018'] * 100\n",
        "data['pctasian'] = data['nhasian_2018'] * 100\n",
        "data['pcthispanic'] = data['hispanic_2018'] * 100\n",
        "data = data.drop(['povprop','male_2018','nhwhite_2018','nhblack_2018','nhindian_2018','nhasian_2018','hispanic_2018'], axis=1)\n",
        "data = data.sort_values('cases rate 10k', ascending=False)[data['population'] > 100000]\n",
        "epifips = data.iloc[0:200]['fips'].tolist()\n",
        "data['type'] = data['fips'].apply(lambda x: 0 if x in epifips else 1)\n",
        "cdata = data\n",
        "\n",
        "cdata = cdata.merge(pol_data, on='fips').drop_duplicates().reset_index(drop=True)\n",
        "\n",
        "wave2_data = cdata\n",
        "wave2_data.to_csv('wave2_data.csv')"
      ]
    },
    {
      "cell_type": "markdown",
      "metadata": {
        "id": "Fb5hWDIBaMZ1"
      },
      "source": [
        "### All Year Data"
      ]
    },
    {
      "cell_type": "code",
      "execution_count": 12,
      "metadata": {
        "colab": {
          "base_uri": "https://localhost:8080/"
        },
        "id": "gA3ra0_maMZ2",
        "outputId": "b5af81cc-97f8-4213-89cf-b0002cc14bed"
      },
      "outputs": [
        {
          "name": "stderr",
          "output_type": "stream",
          "text": [
            "/usr/local/lib/python3.7/dist-packages/ipykernel_launcher.py:21: UserWarning: Boolean Series key will be reindexed to match DataFrame index.\n"
          ]
        }
      ],
      "source": [
        "covid = pd.read_csv('/Data/us-counties.csv')\n",
        "covid = covid[covid['date'] == '2020-12-31']\n",
        "covid = covid.drop(['date', 'county', 'state'], axis = 1)\n",
        "covid = covid.dropna()\n",
        "covid['fips'] = covid['fips'].astype(int).astype(str).apply(lambda x: x.zfill(5)[0:5])\n",
        "\n",
        "data = covid.merge(ethj, on='fips')\n",
        "data = data.merge(edu, on='fips').drop_duplicates().reset_index(drop=True)\n",
        "data['cases rate 10k'] = data['cases'] / data['population'] * 10000\n",
        "data['deaths rate 10k'] = data['deaths'] / data['population'] * 10000\n",
        "data['deaths cases 10k'] = data['deaths'] / data['cases'] * 10000\n",
        "data['ageab55'] = data['ageab55'] * 100\n",
        "data['pctpov'] = data['povprop'] * 100\n",
        "data['pctmale'] = data['male_2018'] * 100\n",
        "data['pctwhite'] = data['nhwhite_2018'] * 100\n",
        "data['pctblack'] = data['nhblack_2018'] * 100\n",
        "data['pctindian'] = data['nhindian_2018'] * 100\n",
        "data['pctasian'] = data['nhasian_2018'] * 100\n",
        "data['pcthispanic'] = data['hispanic_2018'] * 100\n",
        "data = data.drop(['povprop','male_2018','nhwhite_2018','nhblack_2018','nhindian_2018','nhasian_2018','hispanic_2018'], axis=1)\n",
        "data = data.sort_values('cases rate 10k', ascending=False)[data['population'] > 100000]\n",
        "epifips = data.iloc[0:200]['fips'].tolist()\n",
        "data['type'] = data['fips'].apply(lambda x: 0 if x in epifips else 1)\n",
        "cdata = data\n",
        "\n",
        "cdata = cdata.merge(pol_data, on='fips').drop_duplicates().reset_index(drop=True)\n",
        "\n",
        "whole_data = cdata\n",
        "whole_data.to_csv('whole_data.csv')"
      ]
    }
  ],
  "metadata": {
    "colab": {
      "collapsed_sections": [],
      "name": "0 Data Preparation.ipynb",
      "provenance": []
    },
    "kernelspec": {
      "display_name": "Python 3",
      "name": "python3"
    },
    "language_info": {
      "name": "python"
    }
  },
  "nbformat": 4,
  "nbformat_minor": 0
}
